{
 "cells": [
  {
   "cell_type": "code",
   "execution_count": 9,
   "id": "a7f2ebeb-e3e3-4f13-8ad8-b7d1a1d2670a",
   "metadata": {},
   "outputs": [],
   "source": [
    "import psycopg2"
   ]
  },
  {
   "cell_type": "code",
   "execution_count": 51,
   "id": "e5163959-902e-4f85-a2ea-51c054a5ae9f",
   "metadata": {},
   "outputs": [],
   "source": [
    "#conn = psycopg2.connect(\"host=localhost:5432 dbname=nanodegreDB user=postgres password=postgres\")\n",
    "try:\n",
    "    conn = psycopg2.connect(\n",
    "    database=\"nanodegree\",\n",
    "    user=\"ubuntu\",\n",
    "    password=\"123456789\",\n",
    "    host=\"localhost\",\n",
    "    port= '5432'\n",
    "    )\n",
    "except psycopg2.Error as e:\n",
    "    print(e)"
   ]
  },
  {
   "cell_type": "code",
   "execution_count": 52,
   "id": "ad74f6a9-88d3-4add-9c86-bcdce45bb33d",
   "metadata": {},
   "outputs": [],
   "source": [
    "try:\n",
    "    conn.set_session(autocommit=True)\n",
    "except psycopg2.Error as e:\n",
    "    print(e)"
   ]
  },
  {
   "cell_type": "code",
   "execution_count": 53,
   "id": "1ff300d0-5e12-4010-a43d-9574520f0f54",
   "metadata": {},
   "outputs": [],
   "source": [
    "try:\n",
    "    cur = conn.cursor()\n",
    "except psycopg2.Error as e:\n",
    "    print(e)"
   ]
  },
  {
   "cell_type": "code",
   "execution_count": 54,
   "id": "c913b7f7-0048-4130-8fd6-0f5d514e18c5",
   "metadata": {},
   "outputs": [
    {
     "name": "stdout",
     "output_type": "stream",
     "text": [
      "relation \"music_library\" already exists\n",
      "\n"
     ]
    }
   ],
   "source": [
    "try:\n",
    "    cur.execute(\"create table music_library(col1 int, col2 int, col3 int);\")\n",
    "except psycopg2.Error as e:\n",
    "    print(e)"
   ]
  },
  {
   "cell_type": "code",
   "execution_count": 55,
   "id": "9329f3f1-1cba-4550-9d8c-502f43da6709",
   "metadata": {},
   "outputs": [],
   "source": [
    "try:\n",
    "    conn.commit()\n",
    "except psycopg2.Error as e:\n",
    "    print(e)"
   ]
  },
  {
   "cell_type": "code",
   "execution_count": 67,
   "id": "b9db6d26-ea76-416d-9d4c-c7472dd2c3a0",
   "metadata": {},
   "outputs": [],
   "source": [
    "cur.execute(\"select * from music_library;\")"
   ]
  },
  {
   "cell_type": "code",
   "execution_count": 69,
   "id": "408787d9-a447-4070-9924-eaed3c3cd9e0",
   "metadata": {},
   "outputs": [
    {
     "data": {
      "text/plain": [
       "[]"
      ]
     },
     "execution_count": 69,
     "metadata": {},
     "output_type": "execute_result"
    }
   ],
   "source": [
    "cur.fetchall()"
   ]
  },
  {
   "cell_type": "code",
   "execution_count": 70,
   "id": "e859b0c2-cedc-48ec-997b-9efbe07c4fb0",
   "metadata": {},
   "outputs": [],
   "source": [
    "cur.execute(\"select count(*) from music_library;\")"
   ]
  },
  {
   "cell_type": "code",
   "execution_count": 71,
   "id": "f00fa0cf-b6ba-4f22-b70d-234b8a3539a9",
   "metadata": {},
   "outputs": [
    {
     "name": "stdout",
     "output_type": "stream",
     "text": [
      "[(0,)]\n"
     ]
    }
   ],
   "source": [
    "val=cur.fetchall()\n",
    "print(val)"
   ]
  },
  {
   "cell_type": "code",
   "execution_count": 72,
   "id": "d4ed7562-6d9c-4ba5-ada7-6a26c9e618a9",
   "metadata": {},
   "outputs": [],
   "source": [
    "cur.execute(\"create database udacity;\")"
   ]
  },
  {
   "cell_type": "code",
   "execution_count": 73,
   "id": "019a0dd1-483f-4d0f-be2e-901d2ae1ce1d",
   "metadata": {},
   "outputs": [],
   "source": [
    "try:\n",
    "    conn.close()\n",
    "except psycopg2 as e:\n",
    "    print(e)"
   ]
  },
  {
   "cell_type": "code",
   "execution_count": 74,
   "id": "cbaaba29-ec3a-4098-8f44-728725a0798b",
   "metadata": {},
   "outputs": [],
   "source": [
    "try:\n",
    "    conn = psycopg2.connect(\"dbname=udacity\")\n",
    "except psycopg2.Error as e:\n",
    "    print(\"Could not establish connection to Database=udacity\")\n",
    "    print(e)"
   ]
  },
  {
   "cell_type": "code",
   "execution_count": 75,
   "id": "b3734bb7-3e36-40af-b982-8c4b0f393090",
   "metadata": {},
   "outputs": [],
   "source": [
    "try:\n",
    "    cur = conn.cursor()\n",
    "except psycopg2.Error as e:\n",
    "    print(\"Could not get cursor to Database=udacity\")\n",
    "    print(e)"
   ]
  },
  {
   "cell_type": "code",
   "execution_count": 76,
   "id": "32e687f1-02f1-451e-b9e9-d15a9d18e3d2",
   "metadata": {},
   "outputs": [],
   "source": [
    "conn.set_session(autocommit=True)"
   ]
  },
  {
   "cell_type": "code",
   "execution_count": 77,
   "id": "5b9fcc60-9cb7-4ee9-ba6f-e73d122e064f",
   "metadata": {},
   "outputs": [],
   "source": [
    "try:\n",
    "    cur.execute(\"create table music_library(album_name varchar, artist_name varchar, year int);\")\n",
    "except psycopg2.Error as e:\n",
    "    print(\"Could not create table tablename=music_library\")\n",
    "    print(e)"
   ]
  },
  {
   "cell_type": "code",
   "execution_count": 78,
   "id": "f8e91cbd-d233-4945-b547-a34fc93530b9",
   "metadata": {},
   "outputs": [
    {
     "data": {
      "text/plain": [
       "[(0,)]"
      ]
     },
     "execution_count": 78,
     "metadata": {},
     "output_type": "execute_result"
    }
   ],
   "source": [
    "cur.execute(\"select * from music_library;\")\n",
    "cur.fetchall()\n",
    "cur.execute(\"select count(*) from music_library;\")\n",
    "cur.fetchall()"
   ]
  },
  {
   "cell_type": "code",
   "execution_count": null,
   "id": "c467627f-3559-4d49-9c76-bd6ebf294196",
   "metadata": {},
   "outputs": [],
   "source": []
  }
 ],
 "metadata": {
  "kernelspec": {
   "display_name": "Python 3 (ipykernel)",
   "language": "python",
   "name": "python3"
  },
  "language_info": {
   "codemirror_mode": {
    "name": "ipython",
    "version": 3
   },
   "file_extension": ".py",
   "mimetype": "text/x-python",
   "name": "python",
   "nbconvert_exporter": "python",
   "pygments_lexer": "ipython3",
   "version": "3.11.3"
  }
 },
 "nbformat": 4,
 "nbformat_minor": 5
}
